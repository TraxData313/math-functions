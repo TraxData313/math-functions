{
 "cells": [
  {
   "cell_type": "code",
   "execution_count": 6,
   "metadata": {},
   "outputs": [],
   "source": [
    "def c_map(user_input, in_min, in_max, out_min, out_max):\n",
    "    \"\"\"The function remaps the input from one range to another, just like:\n",
    "    https://www.arduino.cc/reference/en/language/functions/math/map/\n",
    "    \n",
    "    Example:\n",
    "    Map percents to ratios. If used with those params:\n",
    "    c_map(user_input=50, in_min=0, in_max=100, out_min=0, out_max=1)\n",
    "    the function will return 0.5 (since 50% = 0.5)\n",
    "    \"\"\"\n",
    "    \n",
    "    # Calculate the ratio for the two ranges:\n",
    "    in_range = in_max - in_min\n",
    "    out_range = out_max - out_min\n",
    "    range_ratio = out_range/in_range\n",
    "    \n",
    "    # Calculate how far is the input from in_min:\n",
    "    input_dist_from_min = user_input - in_min\n",
    "    \n",
    "    # Calculate how far from out_min the output should be:\n",
    "    output_dist_from_min = input_dist_from_min*range_ratio\n",
    "    \n",
    "    # Calculate and return the output:\n",
    "    return out_min + output_dist_from_min    "
   ]
  },
  {
   "cell_type": "code",
   "execution_count": 7,
   "metadata": {},
   "outputs": [
    {
     "data": {
      "text/plain": [
       "0.5"
      ]
     },
     "execution_count": 7,
     "metadata": {},
     "output_type": "execute_result"
    }
   ],
   "source": [
    "c_map(50, in_min=0, in_max=100, out_min=0, out_max=1)"
   ]
  },
  {
   "cell_type": "code",
   "execution_count": 8,
   "metadata": {},
   "outputs": [
    {
     "name": "stdout",
     "output_type": "stream",
     "text": [
      "Help on function c_map in module __main__:\n",
      "\n",
      "c_map(user_input, in_min, in_max, out_min, out_max)\n",
      "    The function remaps the input from one range to another, just like:\n",
      "    https://www.arduino.cc/reference/en/language/functions/math/map/\n",
      "    \n",
      "    Example:\n",
      "    Map percents to ratios. If used with those params:\n",
      "    c_map(user_input=50, in_min=0, in_max=100, out_min=0, out_max=1)\n",
      "    the function will return 0.5 (since 50% = 0.5)\n",
      "\n"
     ]
    }
   ],
   "source": [
    "help(c_map)"
   ]
  },
  {
   "cell_type": "code",
   "execution_count": null,
   "metadata": {},
   "outputs": [],
   "source": []
  }
 ],
 "metadata": {
  "kernelspec": {
   "display_name": "Python 3",
   "language": "python",
   "name": "python3"
  },
  "language_info": {
   "codemirror_mode": {
    "name": "ipython",
    "version": 3
   },
   "file_extension": ".py",
   "mimetype": "text/x-python",
   "name": "python",
   "nbconvert_exporter": "python",
   "pygments_lexer": "ipython3",
   "version": "3.7.4"
  }
 },
 "nbformat": 4,
 "nbformat_minor": 2
}
